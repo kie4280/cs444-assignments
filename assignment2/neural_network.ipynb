{
 "cells": [
  {
   "cell_type": "markdown",
   "metadata": {},
   "source": [
    "# CS444 Assignment 2"
   ]
  },
  {
   "cell_type": "code",
   "execution_count": 23,
   "metadata": {},
   "outputs": [
    {
     "name": "stdout",
     "output_type": "stream",
     "text": [
      "The autoreload extension is already loaded. To reload it, use:\n",
      "  %reload_ext autoreload\n"
     ]
    }
   ],
   "source": [
    "import matplotlib.pyplot as plt\n",
    "import numpy as np\n",
    "from tqdm import tqdm\n",
    "\n",
    "from kaggle_submission import output_submission_csv\n",
    "from models.neural_net import NeuralNetwork\n",
    "from utils.data_process import get_FASHION_data\n",
    "\n",
    "%matplotlib inline\n",
    "plt.rcParams['figure.figsize'] = (10.0, 8.0)  # set default size of plots\n",
    "\n",
    "# For auto-reloading external modules\n",
    "# See http://stackoverflow.com/questions/1907993/autoreload-of-modules-in-ipython\n",
    "%load_ext autoreload\n",
    "%autoreload 2\n"
   ]
  },
  {
   "cell_type": "markdown",
   "metadata": {},
   "source": [
    "## Loading Fashion-MNIST\n",
    "Now that you have implemented a neural network that passes gradient checks and works on toy data, you will test your network on the Fashion-MNIST dataset."
   ]
  },
  {
   "cell_type": "code",
   "execution_count": 24,
   "metadata": {},
   "outputs": [],
   "source": [
    "# You can change these numbers for experimentation\n",
    "# For submission be sure they are set to the default values\n",
    "TRAIN_IMAGES = 50000\n",
    "VAL_IMAGES = 10000\n",
    "TEST_IMAGES = 10000\n",
    "\n",
    "data = get_FASHION_data(TRAIN_IMAGES, VAL_IMAGES, TEST_IMAGES)\n",
    "X_train, y_train = data['X_train'], data['y_train']\n",
    "X_val, y_val = data['X_val'], data['y_val']\n",
    "X_test, y_test = data['X_test'], data['y_test']\n",
    "\n",
    "train_loss = None\n",
    "train_accuracy = None\n",
    "val_accuracy = None\n",
    "net_2sgd, net_3sgd, net_2adam, net_3adam = None, None, None, None\n",
    "\n",
    "sgd2_loss, sgd2_val, adam2_loss, adam2_val = None, None, None, None"
   ]
  },
  {
   "cell_type": "markdown",
   "metadata": {},
   "source": [
    "## Train using SGD\n",
    "To train our network we will use SGD. In addition, we will adjust the learning rate with an exponential learning rate schedule as optimization proceeds; after each epoch, we will reduce the learning rate by multiplying it by a decay rate.\n",
    "\n",
    "You can try different numbers of layers and other hyperparameters on the Fashion-MNIST dataset below."
   ]
  },
  {
   "cell_type": "code",
   "execution_count": 39,
   "metadata": {},
   "outputs": [
    {
     "name": "stderr",
     "output_type": "stream",
     "text": [
      "100%|██████████| 50/50 [44:29<00:00, 53.38s/it, valid=0.8865, train=0.9296]\n"
     ]
    }
   ],
   "source": [
    "def sgd_2():\n",
    "\n",
    "    # Hyperparameters\n",
    "    input_size = 28 * 28\n",
    "    num_layers = 2\n",
    "    hidden_size = 80\n",
    "    hidden_sizes = [hidden_size] * (num_layers - 1)\n",
    "    num_classes = 10\n",
    "    epochs = 50\n",
    "    batch_size = 50\n",
    "    learning_rate = 1e-3\n",
    "    learning_rate_decay = 0.9\n",
    "    regularization = 0.08\n",
    "\n",
    "    global train_loss, train_accuracy, val_accuracy, net_2sgd\n",
    "    # Initialize a new neural network model\n",
    "    net_2sgd = NeuralNetwork(input_size, hidden_sizes, num_classes, num_layers)\n",
    "\n",
    "    # Variables to store performance for each epoch\n",
    "    train_loss = np.zeros(epochs)\n",
    "    train_accuracy = np.zeros(epochs)\n",
    "    val_accuracy = np.zeros(epochs)\n",
    "\n",
    "    # For each epoch...\n",
    "    t = tqdm(range(epochs))\n",
    "    for epoch in t:\n",
    "\n",
    "        # Shuffle the dataset\n",
    "        perm = np.random.permutation(X_train.shape[0])\n",
    "        X, y = X_train[perm], y_train[perm]\n",
    "\n",
    "        # Training\n",
    "        # For each mini-batch...\n",
    "        batches = TRAIN_IMAGES // batch_size\n",
    "        for batch in range(batches):\n",
    "            # Create a mini-batch of training data and labels\n",
    "            X_batch = X[batch*batch_size:(batch + 1)*batch_size]\n",
    "            y_batch = y[batch*batch_size:(batch + 1)*batch_size]\n",
    "\n",
    "            # Run the forward pass of the model to get a prediction and compute the accuracy\n",
    "            train_accuracy[epoch] += np.sum(\n",
    "                np.argmax(net_2sgd.forward(X_batch), axis=1) == y_batch)\n",
    "\n",
    "            # Run the backward pass of the model to compute the loss, and update the weights\n",
    "            train_loss[epoch] += net_2sgd.backward(y_batch, regularization)\n",
    "            net_2sgd.update(learning_rate, opt='SGD')\n",
    "\n",
    "        # Validation\n",
    "        # No need to run the backward pass here, just run the forward pass to compute accuracy\n",
    "        val_accuracy[epoch] += np.sum(np.argmax(net_2sgd.forward(X_val),\n",
    "                                    axis=1) == y_val) / y_val.shape[0]\n",
    "        t.set_postfix({\"valid\":\"{:.4f}\".format(val_accuracy[epoch]),\n",
    "                        \"train\": \"{:.4f}\".format(train_accuracy[epoch] / (batches * batch_size))})\n",
    "        # Implement learning rate decay\n",
    "        learning_rate = learning_rate * learning_rate_decay\n",
    "        train_accuracy[epoch] = train_accuracy[epoch] / (batches * batch_size)\n",
    "        train_loss[epoch] = train_loss[epoch] / (batches * batch_size)\n",
    "    global sgd2_loss, sgd2_val\n",
    "    sgd2_loss = train_loss.copy()\n",
    "    sgd2_val = val_accuracy.copy()\n",
    "sgd_2()\n"
   ]
  },
  {
   "cell_type": "code",
   "execution_count": 40,
   "metadata": {},
   "outputs": [
    {
     "name": "stderr",
     "output_type": "stream",
     "text": [
      "100%|██████████| 40/40 [41:57<00:00, 62.94s/it, valid=0.8767, train=0.8961]\n"
     ]
    }
   ],
   "source": [
    "def sgd_3():\n",
    "    # Hyperparameters\n",
    "    input_size = 28 * 28\n",
    "    num_layers = 3\n",
    "    hidden_size = 80\n",
    "    hidden_sizes = [hidden_size] * (num_layers - 1)\n",
    "    num_classes = 10\n",
    "    epochs = 40\n",
    "    batch_size = 50\n",
    "    learning_rate = 0.0005\n",
    "    learning_rate_decay = 0.95\n",
    "    regularization = 0.08\n",
    "\n",
    "    global train_loss, train_accuracy, val_accuracy, net_3sgd\n",
    "    # Initialize a new neural network model\n",
    "    net_3sgd = NeuralNetwork(input_size, hidden_sizes, num_classes, num_layers)\n",
    "\n",
    "    # Variables to store performance for each epoch\n",
    "\n",
    "    train_loss = np.zeros(epochs)\n",
    "    train_accuracy = np.zeros(epochs)\n",
    "    val_accuracy = np.zeros(epochs)\n",
    "\n",
    "    # For each epoch...\n",
    "    t = tqdm(range(epochs))\n",
    "    for epoch in t:\n",
    "\n",
    "        # Shuffle the dataset\n",
    "        perm = np.random.permutation(X_train.shape[0])\n",
    "        X, y = X_train[perm], y_train[perm]\n",
    "\n",
    "        # Training\n",
    "        # For each mini-batch...\n",
    "        batches = TRAIN_IMAGES // batch_size\n",
    "        for batch in range(batches):\n",
    "            # Create a mini-batch of training data and labels\n",
    "            X_batch = X[batch*batch_size:(batch + 1)*batch_size]\n",
    "            y_batch = y[batch*batch_size:(batch + 1)*batch_size]\n",
    "\n",
    "            # Run the forward pass of the model to get a prediction and compute the accuracy\n",
    "            train_accuracy[epoch] += np.sum(\n",
    "                np.argmax(net_3sgd.forward(X_batch), axis=1) == y_batch)\n",
    "\n",
    "            # Run the backward pass of the model to compute the loss, and update the weights\n",
    "            train_loss[epoch] += net_3sgd.backward(y_batch, regularization)\n",
    "            net_3sgd.update(learning_rate, opt='SGD')\n",
    "\n",
    "        # Validation\n",
    "        # No need to run the backward pass here, just run the forward pass to compute accuracy\n",
    "        val_accuracy[epoch] += np.sum(np.argmax(net_3sgd.forward(X_val),\n",
    "                                    axis=1) == y_val) / y_val.shape[0]\n",
    "        t.set_postfix({\"valid\":\"{:.4f}\".format(val_accuracy[epoch]),\n",
    "                        \"train\": \"{:.4f}\".format(train_accuracy[epoch] / (batches * batch_size))})\n",
    "        # Implement learning rate decay\n",
    "        learning_rate = learning_rate * learning_rate_decay\n",
    "        train_accuracy[epoch] = train_accuracy[epoch] / (batches * batch_size)\n",
    "        train_loss[epoch] = train_loss[epoch] / (batches * batch_size)\n",
    "\n",
    "sgd_3()"
   ]
  },
  {
   "cell_type": "markdown",
   "metadata": {},
   "source": [
    "## Train using Adam\n",
    "Next we will train the same model using the Adam optimizer. You should take the above code for SGD and modify it to use Adam instead. For implementation details, see the lecture slides. The original paper that introduced Adam is also a good reference, and contains suggestions for default values: https://arxiv.org/pdf/1412.6980.pdf"
   ]
  },
  {
   "cell_type": "code",
   "execution_count": 41,
   "metadata": {},
   "outputs": [
    {
     "name": "stderr",
     "output_type": "stream",
     "text": [
      "100%|██████████| 50/50 [40:58<00:00, 49.17s/it, valid=0.8874, train=0.9412]\n"
     ]
    }
   ],
   "source": [
    "def adam_2():\n",
    "    # Hyperparameters\n",
    "    input_size = 28 * 28\n",
    "    num_layers = 2\n",
    "    hidden_size = 80\n",
    "    hidden_sizes = [hidden_size] * (num_layers - 1)\n",
    "    num_classes = 10\n",
    "    epochs = 50\n",
    "    batch_size = 50\n",
    "    learning_rate = 1e-4\n",
    "    regularization = 0.1\n",
    "    learning_rate_decay = 0.95\n",
    "\n",
    "\n",
    "    global train_loss, train_accuracy, val_accuracy, net_2adam\n",
    "    # Initialize a new neural network model\n",
    "    net_2adam = NeuralNetwork(input_size, hidden_sizes, num_classes, num_layers)\n",
    "\n",
    "    # Variables to store performance for each epoch\n",
    "    train_loss = np.zeros(epochs)\n",
    "    train_accuracy = np.zeros(epochs)\n",
    "    val_accuracy = np.zeros(epochs)\n",
    "\n",
    "    # For each epoch...\n",
    "    t = tqdm(range(epochs))\n",
    "    for epoch in t:\n",
    "\n",
    "        # Shuffle the dataset\n",
    "        perm = np.random.permutation(X_train.shape[0])\n",
    "        X, y = X_train[perm], y_train[perm]\n",
    "\n",
    "        # Training\n",
    "        # For each mini-batch...\n",
    "        batches = TRAIN_IMAGES // batch_size\n",
    "        for batch in range(batches):\n",
    "            # Create a mini-batch of training data and labels\n",
    "            X_batch = X[batch*batch_size:(batch + 1)*batch_size]\n",
    "            y_batch = y[batch*batch_size:(batch + 1)*batch_size]\n",
    "\n",
    "            # Run the forward pass of the model to get a prediction and compute the accuracy\n",
    "            train_accuracy[epoch] += np.sum(\n",
    "                np.argmax(net_2adam.forward(X_batch), axis=1) == y_batch)\n",
    "\n",
    "            # Run the backward pass of the model to compute the loss, and update the weights\n",
    "            train_loss[epoch] += net_2adam.backward(y_batch, regularization)\n",
    "            net_2adam.update(learning_rate, opt='Adam')\n",
    "\n",
    "        # Validation\n",
    "        # No need to run the backward pass here, just run the forward pass to compute accuracy\n",
    "        val_accuracy[epoch] += np.sum(np.argmax(net_2adam.forward(X_val),\n",
    "                                    axis=1) == y_val) / y_val.shape[0]\n",
    "        t.set_postfix({\"valid\":\"{:.4f}\".format(val_accuracy[epoch]),\n",
    "                        \"train\": \"{:.4f}\".format(train_accuracy[epoch] / (batches * batch_size))})\n",
    "        # Implement learning rate decay\n",
    "        train_accuracy[epoch] = train_accuracy[epoch] / (batches * batch_size)\n",
    "        train_loss[epoch] = train_loss[epoch] / (batches * batch_size)\n",
    "        learning_rate = learning_rate * learning_rate_decay\n",
    "    global adam2_loss, adam2_val\n",
    "    adam2_loss = train_loss.copy()\n",
    "    adam2_val = val_accuracy.copy()\n",
    "adam_2()\n"
   ]
  },
  {
   "cell_type": "code",
   "execution_count": 42,
   "metadata": {},
   "outputs": [],
   "source": [
    "def adam_3():\n",
    "    # Hyperparameters\n",
    "    input_size = 28 * 28\n",
    "    num_layers = 3\n",
    "    hidden_size = 60\n",
    "    hidden_sizes = [hidden_size] * (num_layers - 1)\n",
    "    num_classes = 10\n",
    "    epochs = 50\n",
    "    batch_size = 50\n",
    "    learning_rate = 0.005\n",
    "    regularization = 0.03\n",
    "    learning_rate_decay = 0.95\n",
    "\n",
    "\n",
    "    global train_loss, train_accuracy, val_accuracy, net_3adam\n",
    "    # Initialize a new neural network model\n",
    "    net_3adam = NeuralNetwork(input_size, hidden_sizes, num_classes, num_layers)\n",
    "\n",
    "    # Variables to store performance for each epoch\n",
    "    train_loss = np.zeros(epochs)\n",
    "    train_accuracy = np.zeros(epochs)\n",
    "    val_accuracy = np.zeros(epochs)\n",
    "\n",
    "    # For each epoch...\n",
    "    t = tqdm(range(epochs))\n",
    "    for epoch in t:\n",
    "\n",
    "        # Shuffle the dataset\n",
    "        perm = np.random.permutation(X_train.shape[0])\n",
    "        X, y = X_train[perm], y_train[perm]\n",
    "\n",
    "        # Training\n",
    "        # For each mini-batch...\n",
    "        batches = TRAIN_IMAGES // batch_size\n",
    "        for batch in range(batches):\n",
    "            # Create a mini-batch of training data and labels\n",
    "            X_batch = X[batch*batch_size:(batch + 1)*batch_size]\n",
    "            y_batch = y[batch*batch_size:(batch + 1)*batch_size]\n",
    "\n",
    "            # Run the forward pass of the model to get a prediction and compute the accuracy\n",
    "            train_accuracy[epoch] += np.sum(\n",
    "                np.argmax(net_3adam.forward(X_batch), axis=1) == y_batch)\n",
    "\n",
    "            # Run the backward pass of the model to compute the loss, and update the weights\n",
    "            train_loss[epoch] += net_3adam.backward(y_batch, regularization)\n",
    "            net_3adam.update(learning_rate, 0.9, 0.99, opt='SGD')\n",
    "\n",
    "        # Validation\n",
    "        # No need to run the backward pass here, just run the forward pass to compute accuracy\n",
    "        val_accuracy[epoch] += np.sum(np.argmax(net_3adam.forward(X_val),\n",
    "                                    axis=1) == y_val) / y_val.shape[0]\n",
    "        t.set_postfix({\"valid\":\"{:.4f}\".format(val_accuracy[epoch]),\n",
    "                        \"train\": \"{:.4f}\".format(train_accuracy[epoch] / (batches * batch_size))})\n",
    "        # Implement learning rate decay\n",
    "        train_accuracy[epoch] = train_accuracy[epoch] / (batches * batch_size)\n",
    "        train_loss[epoch] = train_loss[epoch] / (batches * batch_size)\n",
    "        learning_rate = learning_rate * learning_rate_decay\n",
    "# adam_3()"
   ]
  },
  {
   "cell_type": "markdown",
   "metadata": {},
   "source": [
    "## Graph loss and train/val accuracies\n",
    "\n",
    "Examining the loss graph along with the train and val accuracy graphs should help you gain some intuition for the hyperparameters you should try in the hyperparameter tuning below. It should also help with debugging any issues you might have with your network."
   ]
  },
  {
   "cell_type": "code",
   "execution_count": 43,
   "metadata": {},
   "outputs": [
    {
     "data": {
      "image/png": "[encoded data removed]",
      "text/plain": [
       "<Figure size 720x576 with 2 Axes>"
      ]
     },
     "metadata": {
      "needs_background": "light"
     },
     "output_type": "display_data"
    }
   ],
   "source": [
    "# Plot the loss function and train / validation accuracies\n",
    "plt.subplot(2, 1, 1)\n",
    "plt.plot(train_loss)\n",
    "plt.title('Loss history')\n",
    "plt.xlabel('Iteration')\n",
    "plt.ylabel('Loss')\n",
    "\n",
    "plt.subplot(2, 1, 2)\n",
    "plt.plot(train_accuracy, label='train')\n",
    "plt.plot(val_accuracy, label='val')\n",
    "plt.title('Classification accuracy history')\n",
    "plt.xlabel('Epoch')\n",
    "plt.ylabel('Classification accuracy')\n",
    "plt.legend()\n",
    "\n",
    "plt.tight_layout()\n",
    "plt.show()"
   ]
  },
  {
   "cell_type": "markdown",
   "metadata": {},
   "source": [
    "## Hyperparameter tuning\n",
    "\n",
    "Once you have successfully trained a network you can tune your hyparameters to increase your accuracy.\n",
    "\n",
    "Based on the graphs of the loss function above you should be able to develop some intuition about what hyperparameter adjustments may be necessary. A very noisy loss implies that the learning rate might be too high, while a linearly decreasing loss would suggest that the learning rate may be too low. A large gap between training and validation accuracy would suggest overfitting due to a large model without much regularization. No gap between training and validation accuracy would indicate low model capacity. \n",
    "\n",
    "You will compare networks of two and three layers using the different optimization methods you implemented. \n",
    "\n",
    "The different hyperparameters you can experiment with are:\n",
    "- **Batch size**: We recommend you leave this at 200 initially which is the batch size we used. \n",
    "- **Number of iterations**: You can gain an intuition for how many iterations to run by checking when the validation accuracy plateaus in your train/val accuracy graph.\n",
    "- **Initialization** Weight initialization is very important for neural networks. We used the initialization `W = np.random.randn(n) / sqrt(n)` where `n` is the input dimension for layer corresponding to `W`. We recommend you stick with the given initializations, but you may explore modifying these. Typical initialization practices: http://cs231n.github.io/neural-networks-2/#init\n",
    "- **Learning rate**: Generally from around 1e-4 to 1e-1 is a good range to explore according to our implementation.\n",
    "- **Learning rate decay**: We recommend a 0.95 decay to start.\n",
    "- **Hidden layer size**: You should explore up to around 120 units per layer. For three-layer network, we fixed the two hidden layers to be the same size when obtaining the target numbers. However, you may experiment with having different size hidden layers.\n",
    "- **Regularization coefficient**: We recommend trying values in the range 0 to 0.1. \n",
    "\n",
    "Hints:\n",
    "- After getting a sense of the parameters by trying a few values yourself, you will likely want to write a few for-loops to traverse over a set of hyperparameters.\n",
    "- If you find that your train loss is decreasing, but your train and val accuracy start to decrease rather than increase, your model likely started minimizing the regularization term. To prevent this you will need to decrease the regularization coefficient. "
   ]
  },
  {
   "cell_type": "markdown",
   "metadata": {},
   "source": [
    "## Run on the test set\n",
    "When you are done experimenting, you should evaluate your final trained networks on the test set."
   ]
  },
  {
   "cell_type": "code",
   "execution_count": 50,
   "metadata": {},
   "outputs": [],
   "source": [
    "best_2layer_sgd_prediction = np.argmax(net_2sgd.forward(X_test), axis=1)\n",
    "best_3layer_sgd_prediction = np.argmax(net_3sgd.forward(X_test), axis=1)\n",
    "best_2layer_adam_prediction = np.argmax(net_2adam.forward(X_test), axis=1)\n",
    "best_3layer_adam_prediction = np.argmax(net_3adam.forward(X_test), axis=1)"
   ]
  },
  {
   "cell_type": "markdown",
   "metadata": {},
   "source": [
    "## Kaggle output\n",
    "\n",
    "Once you are satisfied with your solution and test accuracy, output a file to submit your test set predictions to the Kaggle for Assignment 2 Neural Network. Use the following code to do so:"
   ]
  },
  {
   "cell_type": "code",
   "execution_count": 51,
   "metadata": {},
   "outputs": [],
   "source": [
    "output_submission_csv('./nn_2layer_sgd_submission.csv', best_2layer_sgd_prediction)\n",
    "output_submission_csv('./nn_3layer_sgd_submission.csv', best_3layer_sgd_prediction)\n",
    "output_submission_csv('./nn_2layer_adam_submission.csv', best_2layer_adam_prediction)\n",
    "output_submission_csv('./nn_3layer_adam_submission.csv', best_3layer_adam_prediction)"
   ]
  },
  {
   "cell_type": "markdown",
   "metadata": {},
   "source": [
    "## Compare SGD and Adam\n",
    "Create graphs to compare training loss and validation accuracy between SGD and Adam. The code is similar to the above code, but instead of comparing train and validation, we are comparing SGD and Adam."
   ]
  },
  {
   "cell_type": "code",
   "execution_count": 60,
   "metadata": {},
   "outputs": [
    {
     "data": {
      "image/png": "[encoded data removed]",
      "text/plain": [
       "<Figure size 720x576 with 2 Axes>"
      ]
     },
     "metadata": {
      "needs_background": "light"
     },
     "output_type": "display_data"
    }
   ],
   "source": [
    "# TODO: implement me\n",
    "\n",
    "# Plot the loss function and train / validation accuracies\n",
    "plt.subplot(2, 1, 1)\n",
    "plt.plot(adam2_loss, label=\"adam\")\n",
    "plt.plot(sgd2_loss, label=\"sgd\")\n",
    "plt.title('Loss history')\n",
    "plt.xlabel('Iteration')\n",
    "plt.ylabel('Loss')\n",
    "plt.legend()\n",
    "\n",
    "plt.subplot(2, 1, 2)\n",
    "plt.plot(adam2_val, label='adam')\n",
    "plt.plot(sgd2_val, label='sgd')\n",
    "plt.title('Classification accuracy history')\n",
    "plt.xlabel('Epoch')\n",
    "plt.ylabel('Classification accuracy')\n",
    "plt.legend()\n",
    "\n",
    "plt.tight_layout()\n",
    "plt.show()\n"
   ]
  }
 ],
 "metadata": {
  "kernelspec": {
   "display_name": "Python 3",
   "language": "python",
   "name": "python3"
  },
  "language_info": {
   "codemirror_mode": {
    "name": "ipython",
    "version": 3
   },
   "file_extension": ".py",
   "mimetype": "text/x-python",
   "name": "python",
   "nbconvert_exporter": "python",
   "pygments_lexer": "ipython3",
   "version": "3.10.0"
  }
 },
 "nbformat": 4,
 "nbformat_minor": 1
}
